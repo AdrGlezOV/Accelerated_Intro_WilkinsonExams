{
 "cells": [
  {
   "cell_type": "markdown",
   "metadata": {},
   "source": [
    "**Problem 2**\n",
    "\n",
    "Create a directory listing command that shows:\n",
    "\n",
    "    the ownership of the file\n",
    "    it's file-size, in Megabytes (i.e. human readable)\n",
    "\n",
    "then:\n",
    "\n",
    "    in words (in a Markdown box), describe the permissions on that file (read/write/execute) for users, groups, and \"anyone\"\n"
   ]
  },
  {
   "cell_type": "code",
   "execution_count": null,
   "metadata": {
    "scrolled": true
   },
   "outputs": [],
   "source": [
    "#Problem 2\n",
    "ls -lh"
   ]
  },
  {
   "cell_type": "markdown",
   "metadata": {},
   "source": [
    "#Problem 2 explanation \n",
    "\n",
    "I used ls command with -l to show a list and -h (human readable size).\n",
    "The ownership (osboxes) and the size is 1.2M.\n",
    "As we can see in the list;\n",
    "Locus_Germplasm_Phenotype_20130122.txt: - rwx rwx r-x: is not a directory (-), read/write for user, read/write for group and read for all."
   ]
  },
  {
   "cell_type": "markdown",
   "metadata": {},
   "source": [
    "**Problem 3**\n",
    "\n",
    "    Create a command that outputs only the \"header\" line of Locus_Germplasm_Phenotype_20130122.txt\n"
   ]
  },
  {
   "cell_type": "code",
   "execution_count": null,
   "metadata": {},
   "outputs": [],
   "source": [
    "#Problem 3\n",
    "head -1 Locus_Germplasm_Phenotype_20130122.txt"
   ]
  },
  {
   "cell_type": "markdown",
   "metadata": {},
   "source": [
    "#Problem 3 explanation\n",
    "\n",
    "I have used head command to show the header line. \n",
    "In addition to show only the header line I put -1 after head to show the first line."
   ]
  },
  {
   "cell_type": "markdown",
   "metadata": {},
   "source": [
    "**Problem 4**\n",
    "\n",
    "    Create a command that outputs the total number of lines in Locus_Germplasm_Phenotype_20130122.txt\n"
   ]
  },
  {
   "cell_type": "code",
   "execution_count": null,
   "metadata": {},
   "outputs": [],
   "source": [
    "#Problem 4\n",
    "wc -l Locus_Germplasm_Phenotype_20130122.txt"
   ]
  },
  {
   "cell_type": "markdown",
   "metadata": {},
   "source": [
    "#Problem 4 explanation\n",
    "\n",
    "I used wc (word count) command with -l (for lines) to count how many lines there are in Locus_Germplasm_Phenotype_20130122.txt file"
   ]
  },
  {
   "cell_type": "markdown",
   "metadata": {},
   "source": [
    "**Problem 5**\n",
    "\n",
    "    Create a command that writes ONLY the data lines (i.e. excludes the header!) to a new file called \"Data_Only.csv\"\n",
    "    prove that your output file has the expected number of lines\n"
   ]
  },
  {
   "cell_type": "code",
   "execution_count": null,
   "metadata": {
    "scrolled": false
   },
   "outputs": [],
   "source": [
    "#Problem 5\n",
    "tail -7215 Locus_Germplasm_Phenotype_20130122.txt > Data_Only.csv\n",
    "head Data_Only.csv"
   ]
  },
  {
   "cell_type": "markdown",
   "metadata": {},
   "source": [
    "#Problem 5 explanation\n",
    "\n",
    "As we know that file Locus_Germplasm_Phenotype_20130122.txt has 7216 lines and the first line describes the data type, if I use the command tail with the last 7215 lines (-7215) I select the data; and using command > put the selected data into a file called Data_Only.csv.\n",
    "After create a file with only data, to assure that in the new file only is the data, I  use the command head to know if the header line has disappeared."
   ]
  },
  {
   "cell_type": "markdown",
   "metadata": {},
   "source": [
    "**Problem 6**\n",
    "\n",
    "    Create a command that shows all of the lines that have a phenotype including the word \"root\"\n"
   ]
  },
  {
   "cell_type": "code",
   "execution_count": null,
   "metadata": {
    "scrolled": true
   },
   "outputs": [],
   "source": [
    "#Problem 6\n",
    "grep -in \"Root\" Locus_Germplasm_Phenotype_20130122.txt\n"
   ]
  },
  {
   "cell_type": "markdown",
   "metadata": {},
   "source": [
    "#Problem 6 explanation\n",
    "\n",
    "Using command grep with -i (insensitive case, because the word root can appear like Root (capital letter) or root (lower case letter)) and -n (to show line number of the match), I have searched the word Root (\"Root\").\n",
    "And then, the display shows the line with the match and at the beggining of each line the number of the line.\n"
   ]
  },
  {
   "cell_type": "markdown",
   "metadata": {},
   "source": [
    "**Problem 7**\n",
    "\n",
    "    Create a command that writes the AGI Locus Code for every line that has a phenotype including the word \"root\" to a file called: Root-associated-Loci.txt\n"
   ]
  },
  {
   "cell_type": "code",
   "execution_count": null,
   "metadata": {},
   "outputs": [],
   "source": [
    "#Problem 7\n",
    "grep -i \"Root\" Locus_Germplasm_Phenotype_20130122.txt | grep -E -io \"^AT[0-9]G[0-9]{5}\" > Root-associated-Loci.txt\n",
    "cat Root-associated-Loci.txt\n"
   ]
  },
  {
   "cell_type": "markdown",
   "metadata": {},
   "source": [
    "#Problem 7 explanation\n",
    "\n",
    "I have used the command grep -i \"Root\" Locus_Germplasm_Phenotype_20130122.txt to select the lines with the match Root or root (-i). After that, with a pipe, I used the command grep -E -o \"^AT[0-9]G[0-9]{5}\" to select from the selected lines in the previous step, the AGI code from the genes that contain the word root or Root in their phenotypes.\n",
    "After that, I put data in a file called Root-associated-Loci.txt with the command >.\n",
    "Finally, to assure that in the new file are the AGI codes of the root genes, I have used cat command to show the file Root-associated-Loci.txt in the display."
   ]
  },
  {
   "cell_type": "markdown",
   "metadata": {},
   "source": [
    "**Problem 8**\n",
    "\n",
    "    Create a command that writes the PubMed ID for every line that has a phenotype including the word \"root\" to a \n",
    "    file  called: Root-associated-Publications.txt\n"
   ]
  },
  {
   "cell_type": "code",
   "execution_count": null,
   "metadata": {},
   "outputs": [],
   "source": [
    "#Problem 8\n",
    "grep -i \"Root\" Locus_Germplasm_Phenotype_20130122.txt | grep -E -o \"[0-9]+$\" > Root-associated-Publications.txt\n",
    "cat Root-associated-Publications.txt"
   ]
  },
  {
   "cell_type": "markdown",
   "metadata": {},
   "source": [
    "#Problem 8 explanation\n",
    "\n",
    "Like in the previous problem, I have used the command grep -i \"Root\" Locus_Germplasm_Phenotype_20130122.txt to select the lines that contain the word root or Root and after that with a pipe and the command grep -E -o \"[0-9]+$\" I select the pubmed ID.\n",
    "\n",
    "I select only the match (-o) of the pubmed ID and use \"[0-9]+\" because I can´t know the length and a $ because is in the end of the line.\n",
    "After that, I put the data into a file called Root-associated-Publications.txt and show the data in the display with the command cat."
   ]
  },
  {
   "cell_type": "markdown",
   "metadata": {},
   "source": [
    "**Problem 9**\n",
    "\n",
    "    Control experiment: You would hypothesize that genes associated with roots should be found on all chromosomes.\n",
    "    Find a way (one or more commands) to test this hypothesis. In this dataset, is the hypothesis true?\n"
   ]
  },
  {
   "cell_type": "code",
   "execution_count": null,
   "metadata": {},
   "outputs": [],
   "source": [
    "#Problem 9\n",
    "grep -i \"Root\" Locus_Germplasm_Phenotype_20130122.txt | grep -E -i \"^AT[1]G[0-9]{5}\" | wc -l\n",
    "grep -i \"Root\" Locus_Germplasm_Phenotype_20130122.txt | grep -E -i \"^AT[2]G[0-9]{5}\" | wc -l\n",
    "grep -i \"Root\" Locus_Germplasm_Phenotype_20130122.txt | grep -E -i \"^AT[3]G[0-9]{5}\" | wc -l\n",
    "grep -i \"Root\" Locus_Germplasm_Phenotype_20130122.txt | grep -E -i \"^AT[4]G[0-9]{5}\" | wc -l\n",
    "grep -i \"Root\" Locus_Germplasm_Phenotype_20130122.txt | grep -E -i \"^AT[5]G[0-9]{5}\" | wc -l\n"
   ]
  },
  {
   "cell_type": "markdown",
   "metadata": {},
   "source": [
    "#Problem 9 explanation\n",
    "\n",
    "Chromosomes are described in the number after AT in AGI code. For example: gen AT1G36060 is located in chromosome 1.\n",
    "Using 5 double grep command (the first to select lines which contain root word and the second to select the chromosome) with 5 wc (word count) -l command, I can know the number of genes are in each chromosome. 5 grep commands are used, one per chromosome.\n",
    "As we can see, there are at least one gen in each chromosome and then the hipothesis is true."
   ]
  },
  {
   "cell_type": "markdown",
   "metadata": {},
   "source": [
    "**Problem 10**\n",
    "\n",
    "    If your control experiment shows genes on every chromosome, then you can skip this question! \n",
    "    (you answered Problem 9 correctly!)\n",
    "\n",
    "    If your control experiment shows genes only on one or two chromosomes, then you have to explain \n",
    "    why... what could the problem be? (I told you specifically to be careful about this problem!)\n"
   ]
  },
  {
   "cell_type": "markdown",
   "metadata": {},
   "source": [
    "#Problem 10\n",
    "My control shows that at least one gen is in each chromosome. Then I skip the question."
   ]
  },
  {
   "cell_type": "markdown",
   "metadata": {},
   "source": [
    "**Problem 11**\n",
    "\n",
    "    'git commit' and 'git push' your answers to your GitHub, then give me your GitHub username before \n",
    "    you leave the class. I will clone your repositories and grade your answers.\n"
   ]
  },
  {
   "cell_type": "code",
   "execution_count": null,
   "metadata": {},
   "outputs": [],
   "source": []
  }
 ],
 "metadata": {
  "kernelspec": {
   "display_name": "Bash",
   "language": "bash",
   "name": "bash"
  },
  "language_info": {
   "codemirror_mode": "shell",
   "file_extension": ".sh",
   "mimetype": "text/x-sh",
   "name": "bash"
  }
 },
 "nbformat": 4,
 "nbformat_minor": 2
}
